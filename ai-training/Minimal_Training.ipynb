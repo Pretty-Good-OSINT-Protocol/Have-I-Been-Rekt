{
  "cells": [
    {
      "cell_type": "code",
      "execution_count": null,
      "metadata": {},
      "outputs": [],
      "source": [
        "# Setup\n",
        "!git clone https://github.com/Pretty-Good-OSINT-Protocol/Have-I-Been-Rekt.git\n",
        "%cd Have-I-Been-Rekt/ai-training\n",
        "!pip install -q transformers torch datasets scikit-learn pandas\n",
        "print('Setup complete')"
      ]
    },
    {
      "cell_type": "code",
      "execution_count": null,
      "metadata": {},
      "outputs": [],
      "source": [
        "# Generate data\n",
        "!python3 collect_comprehensive_intelligence.py"
      ]
    },
    {
      "cell_type": "code",
      "execution_count": null,
      "metadata": {},
      "outputs": [],
      "source": [
        "# Train model\n",
        "import torch\n",
        "import json\n",
        "from transformers import AutoTokenizer, AutoModelForSequenceClassification, TrainingArguments, Trainer\n",
        "from torch.utils.data import Dataset\n",
        "from sklearn.model_selection import train_test_split\n",
        "\n",
        "print('GPU available:', torch.cuda.is_available())\n",
        "\n",
        "# Load data\n",
        "with open('datasets/comprehensive_threat_intelligence.json', 'r') as f:\n",
        "    data = json.load(f)\n",
        "\n",
        "print(f'Loaded {len(data)} records')\n",
        "\n",
        "# Prepare data\n",
        "texts = []\n",
        "labels = []\n",
        "\n",
        "for record in data:\n",
        "    content = record.get('data', {})\n",
        "    data_type = record.get('type', '')\n",
        "    \n",
        "    if 'username' in data_type:\n",
        "        username = content.get('username', '')\n",
        "        scams = len(content.get('scam_reports', []))\n",
        "        text = f'Username {username} has {scams} scam reports'\n",
        "        label = 1 if scams > 0 else 0\n",
        "    elif 'domain' in data_type:\n",
        "        domain = content.get('domain', '')\n",
        "        phishing = len(content.get('phishing_indicators', []))\n",
        "        text = f'Domain {domain} has {phishing} phishing indicators'\n",
        "        label = 1 if phishing > 0 else 0\n",
        "    else:\n",
        "        text = f'Data type {data_type}'\n",
        "        label = 0\n",
        "    \n",
        "    texts.append(text)\n",
        "    labels.append(label)\n",
        "\n",
        "print(f'Prepared {len(texts)} samples')"
      ]
    },
    {
      "cell_type": "code",
      "execution_count": null,
      "metadata": {},
      "outputs": [],
      "source": [
        "# Create dataset class\n",
        "class SimpleDataset(Dataset):\n",
        "    def __init__(self, texts, labels, tokenizer):\n",
        "        self.texts = texts\n",
        "        self.labels = labels\n",
        "        self.tokenizer = tokenizer\n",
        "    \n",
        "    def __len__(self):\n",
        "        return len(self.texts)\n",
        "    \n",
        "    def __getitem__(self, idx):\n",
        "        text = str(self.texts[idx])\n",
        "        label = self.labels[idx]\n",
        "        \n",
        "        encoding = self.tokenizer(\n",
        "            text,\n",
        "            truncation=True,\n",
        "            padding='max_length',\n",
        "            max_length=128,\n",
        "            return_tensors='pt'\n",
        "        )\n",
        "        \n",
        "        return {\n",
        "            'input_ids': encoding['input_ids'].flatten(),\n",
        "            'attention_mask': encoding['attention_mask'].flatten(),\n",
        "            'labels': torch.tensor(label, dtype=torch.long)\n",
        "        }"
      ]
    },
    {
      "cell_type": "code",
      "execution_count": null,
      "metadata": {},
      "outputs": [],
      "source": [
        "# Initialize model\n",
        "model_name = 'distilbert-base-uncased'\n",
        "tokenizer = AutoTokenizer.from_pretrained(model_name)\n",
        "model = AutoModelForSequenceClassification.from_pretrained(model_name, num_labels=2)\n",
        "\n",
        "# Split data\n",
        "train_texts, val_texts, train_labels, val_labels = train_test_split(\n",
        "    texts, labels, test_size=0.2, random_state=42\n",
        ")\n",
        "\n",
        "train_dataset = SimpleDataset(train_texts, train_labels, tokenizer)\n",
        "val_dataset = SimpleDataset(val_texts, val_labels, tokenizer)\n",
        "\n",
        "print(f'Train: {len(train_dataset)}, Val: {len(val_dataset)}')"
      ]
    },
    {
      "cell_type": "code",
      "execution_count": null,
      "metadata": {},
      "outputs": [],
      "source": [
        "# Train\n",
        "training_args = TrainingArguments(\n",
        "    output_dir='./results',\n",
        "    num_train_epochs=5,\n",
        "    per_device_train_batch_size=8,\n",
        "    logging_steps=10,\n",
        "    evaluation_strategy='epoch',\n",
        "    save_strategy='epoch',\n",
        "    fp16=True,\n",
        "    report_to=None\n",
        ")\n",
        "\n",
        "trainer = Trainer(\n",
        "    model=model,\n",
        "    args=training_args,\n",
        "    train_dataset=train_dataset,\n",
        "    eval_dataset=val_dataset\n",
        ")\n",
        "\n",
        "print('Starting training')\n",
        "trainer.train()\n",
        "print('Training complete')"
      ]
    },
    {
      "cell_type": "code",
      "execution_count": null,
      "metadata": {},
      "outputs": [],
      "source": [
        "# Save model\n",
        "trainer.save_model('./threat-model')\n",
        "tokenizer.save_pretrained('./threat-model')\n",
        "print('Model saved')\n",
        "\n",
        "# Test\n",
        "test_input = 'Username crypto_king_2024 has 1 scam reports'\n",
        "inputs = tokenizer(test_input, return_tensors='pt')\n",
        "outputs = model(**inputs)\n",
        "prediction = torch.nn.functional.softmax(outputs.logits, dim=-1)\n",
        "print('Test prediction:', prediction.tolist())\n",
        "print('Done!')"
      ]
    }
  ],
  "metadata": {
    "accelerator": "GPU",
    "colab": {
      "provenance": []
    },
    "kernelspec": {
      "display_name": "Python 3",
      "name": "python3"
    }
  },
  "nbformat": 4,
  "nbformat_minor": 0
}